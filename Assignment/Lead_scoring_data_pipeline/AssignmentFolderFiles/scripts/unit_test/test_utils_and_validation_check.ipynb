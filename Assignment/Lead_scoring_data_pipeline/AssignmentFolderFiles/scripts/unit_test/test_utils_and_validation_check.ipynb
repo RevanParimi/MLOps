{
 "cells": [
  {
   "cell_type": "code",
   "execution_count": 11,
   "id": "c488d0b7-8212-4c6a-a250-cb09f4c87308",
   "metadata": {},
   "outputs": [],
   "source": [
    "import pandas as pd\n",
    "import os\n",
    "import sqlite3\n",
    "from sqlite3 import Error\n",
    "\n",
    "from constants import *\n",
    "from utils import *\n",
    "from city_tier_mapping import *\n",
    "from significant_categorical_level import *\n",
    "import collections \n",
    "from data_validation_checks import *\n",
    "from schema import *\n",
    "from test_with_pytest import * "
   ]
  },
  {
   "cell_type": "code",
   "execution_count": 14,
   "id": "0e56dfca-e3e2-4cc0-ad91-7a1e59ec2948",
   "metadata": {},
   "outputs": [
    {
     "name": "stdout",
     "output_type": "stream",
     "text": [
      "/home/Assignment/01_data_pipeline/scripts/\n",
      "utils_output.db\n",
      "/home/Assignment/01_data_pipeline/scripts/data/\n",
      "/home/Assignment/01_data_pipeline/scripts/\n"
     ]
    }
   ],
   "source": [
    "print(DB_PATH)\n",
    "print(DB_FILE_NAME)\n",
    "print(DATA_DIRECTORY)\n",
    "print(INTERACTION_MAPPING)"
   ]
  },
  {
   "cell_type": "code",
   "execution_count": 15,
   "id": "0b0e0f7a-b44d-4174-9b89-821bb0f58734",
   "metadata": {},
   "outputs": [
    {
     "name": "stdout",
     "output_type": "stream",
     "text": [
      "Creating Database\n",
      "unable to open database file\n"
     ]
    },
    {
     "data": {
      "text/plain": [
       "'Error'"
      ]
     },
     "execution_count": 15,
     "metadata": {},
     "output_type": "execute_result"
    }
   ],
   "source": [
    "build_dbs(DB_PATH,DB_FILE_NAME)"
   ]
  },
  {
   "cell_type": "code",
   "execution_count": 4,
   "id": "9bf18b1d-7869-424c-a978-3f3c9c5e250d",
   "metadata": {},
   "outputs": [
    {
     "ename": "OperationalError",
     "evalue": "unable to open database file",
     "output_type": "error",
     "traceback": [
      "\u001b[1;31m---------------------------------------------------------------------------\u001b[0m",
      "\u001b[1;31mOperationalError\u001b[0m                          Traceback (most recent call last)",
      "Input \u001b[1;32mIn [4]\u001b[0m, in \u001b[0;36m<cell line: 1>\u001b[1;34m()\u001b[0m\n\u001b[1;32m----> 1\u001b[0m \u001b[43mload_data_into_db\u001b[49m\u001b[43m(\u001b[49m\u001b[43mDB_PATH\u001b[49m\u001b[43m,\u001b[49m\u001b[43mDB_FILE_NAME\u001b[49m\u001b[43m,\u001b[49m\u001b[43mDATA_DIRECTORY\u001b[49m\u001b[43m)\u001b[49m\n",
      "File \u001b[1;32m~\\Downloads\\MLops-PipeLine---MLFlow-and-AirFlow-master\\MLops-PipeLine---MLFlow-and-AirFlow-master\\Lead_scoring_data_pipeline\\AssignmentFolderFiles\\scripts\\unit_test\\utils.py:99\u001b[0m, in \u001b[0;36mload_data_into_db\u001b[1;34m(db_path, db_file_name, data_directory)\u001b[0m\n\u001b[0;32m     75\u001b[0m \u001b[38;5;28;01mdef\u001b[39;00m \u001b[38;5;21mload_data_into_db\u001b[39m(db_path, db_file_name,data_directory):\n\u001b[0;32m     76\u001b[0m \u001b[38;5;250m    \u001b[39m\u001b[38;5;124;03m'''\u001b[39;00m\n\u001b[0;32m     77\u001b[0m \u001b[38;5;124;03m    Thie function loads the data present in datadirectiry into the db\u001b[39;00m\n\u001b[0;32m     78\u001b[0m \u001b[38;5;124;03m    which was created previously.\u001b[39;00m\n\u001b[1;32m   (...)\u001b[0m\n\u001b[0;32m     97\u001b[0m \u001b[38;5;124;03m        load_data_into_db()\u001b[39;00m\n\u001b[0;32m     98\u001b[0m \u001b[38;5;124;03m    '''\u001b[39;00m\n\u001b[1;32m---> 99\u001b[0m     cnx \u001b[38;5;241m=\u001b[39m \u001b[43msqlite3\u001b[49m\u001b[38;5;241;43m.\u001b[39;49m\u001b[43mconnect\u001b[49m\u001b[43m(\u001b[49m\u001b[43mdb_path\u001b[49m\u001b[38;5;241;43m+\u001b[39;49m\u001b[43mdb_file_name\u001b[49m\u001b[43m)\u001b[49m\n\u001b[0;32m    100\u001b[0m     leadscoring \u001b[38;5;241m=\u001b[39m load_data( [\u001b[38;5;124mf\u001b[39m\u001b[38;5;124m\"\u001b[39m\u001b[38;5;132;01m{\u001b[39;00mdata_directory\u001b[38;5;132;01m}\u001b[39;00m\u001b[38;5;124mleadscoring.csv\u001b[39m\u001b[38;5;124m\"\u001b[39m,])[\u001b[38;5;241m0\u001b[39m]\n\u001b[0;32m    101\u001b[0m     leadscoring\u001b[38;5;241m.\u001b[39mreset_index(drop\u001b[38;5;241m=\u001b[39m\u001b[38;5;28;01mTrue\u001b[39;00m)\n",
      "\u001b[1;31mOperationalError\u001b[0m: unable to open database file"
     ]
    }
   ],
   "source": [
    "load_data_into_db(DB_PATH,DB_FILE_NAME,DATA_DIRECTORY)"
   ]
  },
  {
   "cell_type": "code",
   "execution_count": null,
   "id": "ae6225fe-102a-4c90-b842-79c61a8482de",
   "metadata": {},
   "outputs": [],
   "source": [
    "cnx = sqlite3.connect(DB_PATH + DB_FILE_NAME)\n",
    "df = pd.read_sql('select * from loaded_data', cnx)\n",
    "print(df.shape)\n",
    "df.head()"
   ]
  },
  {
   "cell_type": "code",
   "execution_count": null,
   "id": "ad713747-17de-457f-9f04-557f983f3b7c",
   "metadata": {},
   "outputs": [],
   "source": [
    "df.columns"
   ]
  },
  {
   "cell_type": "code",
   "execution_count": null,
   "id": "f77cd27c-0b62-43f6-b25a-74504d3d3668",
   "metadata": {},
   "outputs": [],
   "source": [
    "map_city_tier(DB_PATH,DB_FILE_NAME,city_tier_mapping)"
   ]
  },
  {
   "cell_type": "code",
   "execution_count": null,
   "id": "0e229e7f-65bf-4e06-9fe4-9e569475edb9",
   "metadata": {},
   "outputs": [],
   "source": [
    "cnx = sqlite3.connect(DB_PATH + DB_FILE_NAME)\n",
    "df = pd.read_sql('select * from city_tier_mapped', cnx)\n",
    "print(df.shape)\n",
    "print(df.columns)\n",
    "df.head()"
   ]
  },
  {
   "cell_type": "code",
   "execution_count": null,
   "id": "6effc584-d39e-4fca-9a6c-a65569a8f228",
   "metadata": {},
   "outputs": [],
   "source": [
    "map_categorical_vars(DB_PATH,DB_FILE_NAME,list_platform,list_medium,list_source)"
   ]
  },
  {
   "cell_type": "code",
   "execution_count": null,
   "id": "efb93d84-1014-4429-b06f-092afc863c81",
   "metadata": {},
   "outputs": [],
   "source": [
    "cnx = sqlite3.connect(DB_PATH + DB_FILE_NAME)\n",
    "df = pd.read_sql('select * from categorical_variables_mapped', cnx)\n",
    "print(df.shape)\n",
    "df.head()"
   ]
  },
  {
   "cell_type": "code",
   "execution_count": null,
   "id": "fb435367-851c-456e-bc99-b2c6f797f996",
   "metadata": {},
   "outputs": [],
   "source": [
    "interactions_mapping(DB_PATH,DB_FILE_NAME,INTERACTION_MAPPING,INDEX_COLUMNS)"
   ]
  },
  {
   "cell_type": "code",
   "execution_count": null,
   "id": "0c8b5fcc-3b12-46ba-a0d5-b41ee76aec23",
   "metadata": {},
   "outputs": [],
   "source": [
    "cnx = sqlite3.connect(DB_PATH + DB_FILE_NAME)\n",
    "df = pd.read_sql('select * from interactions_mapped', cnx)\n",
    "print(df.shape)\n",
    "df.head()"
   ]
  },
  {
   "cell_type": "code",
   "execution_count": null,
   "id": "6f1c3dfa-f24f-42a9-bf65-34da06683a6f",
   "metadata": {},
   "outputs": [],
   "source": [
    "raw_data_schema_check(DATA_DIRECTORY,raw_data_schema)"
   ]
  },
  {
   "cell_type": "code",
   "execution_count": null,
   "id": "e3544256-1746-462f-8eae-2e13b358baec",
   "metadata": {},
   "outputs": [],
   "source": [
    "leadscoring = load_data( [f\"{DATA_DIRECTORY}leadscoring.csv\",])[0]\n",
    "source_cols = leadscoring.columns.to_list()\n",
    "    \n",
    "if collections.Counter(source_cols) == collections.Counter(raw_data_schema):\n",
    "    print('Raw datas schema is in line with the schema present in schema.py')\n",
    "else:\n",
    "    print('Raw datas schema is NOT in line with the schema present in schema.py')"
   ]
  },
  {
   "cell_type": "code",
   "execution_count": null,
   "id": "18349b27-5555-409d-9be8-5171ba171990",
   "metadata": {},
   "outputs": [],
   "source": [
    "leadscoring"
   ]
  },
  {
   "cell_type": "markdown",
   "id": "1e33da42-a4c7-46b4-8e78-e98525624490",
   "metadata": {},
   "source": [
    "# Test_with_pytest validation (utils_output.db and unit_test_cases.db)"
   ]
  },
  {
   "cell_type": "code",
   "execution_count": null,
   "id": "68897030-a07f-4bd3-9aa6-cceecf43c7a2",
   "metadata": {},
   "outputs": [],
   "source": [
    "model_input_schema_check(DB_PATH, DB_FILE_NAME, model_input_schema)"
   ]
  },
  {
   "cell_type": "code",
   "execution_count": null,
   "id": "617f6865-58bf-4766-a79e-11ada2b5ec69",
   "metadata": {},
   "outputs": [],
   "source": [
    "test_load_data_into_db()"
   ]
  },
  {
   "cell_type": "code",
   "execution_count": null,
   "id": "faa07282-4207-4910-a175-9e11c6e8076a",
   "metadata": {},
   "outputs": [],
   "source": [
    "test_map_city_tier()"
   ]
  },
  {
   "cell_type": "code",
   "execution_count": null,
   "id": "bfd50423-8cef-4a5e-90af-eff564629597",
   "metadata": {},
   "outputs": [],
   "source": [
    "cnx = sqlite3.connect('/home/Assignment/01_data_pipeline/scripts/' + 'unit_test_cases.db')\n",
    "df = pd.read_sql(f\"SELECT name FROM sqlite_master WHERE type='table'\", cnx)\n",
    "df = pd.read_sql('select * from categorical_variables_mapped_test_case', cnx)\n",
    "print(\"Test Row count\",df.shape[0])\n",
    "cnx.close()\n",
    "\n",
    "cnx = sqlite3.connect('/home/Assignment/01_data_pipeline/scripts/' + 'utils_output.db')\n",
    "df = pd.read_sql(f\"SELECT name FROM sqlite_master WHERE type='table'\", cnx)\n",
    "df = pd.read_sql('select * from categorical_variables_mapped', cnx)\n",
    "print(\"Actual Row Count\",df.shape[0])\n",
    "cnx.close()\n",
    "\n",
    "test_map_categorical_vars()"
   ]
  },
  {
   "cell_type": "code",
   "execution_count": null,
   "id": "1e940041-f1f5-4a45-800a-b7ad11274be1",
   "metadata": {},
   "outputs": [],
   "source": [
    "cnx = sqlite3.connect('/home/Assignment/01_data_pipeline/scripts/' + 'unit_test_cases.db')\n",
    "df = pd.read_sql(f\"SELECT name FROM sqlite_master WHERE type='table'\", cnx)\n",
    "df = pd.read_sql('select * from interactions_mapped_test_case', cnx)\n",
    "print(\"Test Row count\",df.shape[0])\n",
    "cnx.close()\n",
    "\n",
    "cnx = sqlite3.connect('/home/Assignment/01_data_pipeline/scripts/' + 'utils_output.db')\n",
    "df = pd.read_sql(f\"SELECT name FROM sqlite_master WHERE type='table'\", cnx)\n",
    "df = pd.read_sql('select * from interactions_mapped', cnx)\n",
    "print(\"Actual Row Count\",df.shape[0])\n",
    "cnx.close()\n",
    "\n",
    "test_interactions_mapping()"
   ]
  },
  {
   "cell_type": "code",
   "execution_count": null,
   "id": "8b382a51-9d24-4ca0-a23a-6baefaeb8d32",
   "metadata": {},
   "outputs": [],
   "source": []
  }
 ],
 "metadata": {
  "kernelspec": {
   "display_name": "Python 3 (ipykernel)",
   "language": "python",
   "name": "python3"
  },
  "language_info": {
   "codemirror_mode": {
    "name": "ipython",
    "version": 3
   },
   "file_extension": ".py",
   "mimetype": "text/x-python",
   "name": "python",
   "nbconvert_exporter": "python",
   "pygments_lexer": "ipython3",
   "version": "3.10.4"
  }
 },
 "nbformat": 4,
 "nbformat_minor": 5
}
